{
 "cells": [
  {
   "cell_type": "code",
   "execution_count": 1,
   "metadata": {},
   "outputs": [],
   "source": [
    "from __future__ import absolute_import\n",
    "\n",
    "import pandas as pd\n",
    "import numpy as np\n",
    "import dask.dataframe as dd\n",
    "import dask.array as da\n",
    "\n",
    "from sklearn.preprocessing import MinMaxScaler\n",
    "from sklearn.linear_model import BayesianRidge\n",
    "from sklearn.svm import SVR\n",
    "from sklearn.ensemble import RandomForestRegressor\n",
    "from sklearn.metrics import mean_squared_error, r2_score\n",
    "\n",
    "\n",
    "# df = dd.read_csv('C:/Users/BTK/Desktop/Eric/Git/financial-models/database/CCM$N_M1.csv', sep='\\t', usecols=[0, 1, 4, 5])\n",
    "df = dd.read_csv('D:/Dados historicos-NOVO/Bovespa_02012017_30062021/SEQL3_BOV_T_bid_ask.csv', sep='\\t', usecols=[4, 5])\n",
    "\n",
    "df = df.dropna().reset_index(drop=True)\n",
    "\n",
    "def RSI(data, period, applied_price):\n",
    "    dataframe = data\n",
    "\n",
    "    delta = dataframe[applied_price].diff(1)\n",
    "    delta = delta.fillna(0)\n",
    "\n",
    "    dataframe['<DELTA>'] = delta\n",
    "\n",
    "    dataframe['<UP>'] = delta.copy()\n",
    "    dataframe['<DOWN>'] = delta.copy()\n",
    "\n",
    "    delta = dataframe['<DELTA>'].values.compute()\n",
    "    up = []\n",
    "    down = []\n",
    "\n",
    "    for _i in range(len(dataframe)):\n",
    "        if delta[_i] < 0:\n",
    "            up.append(0)\n",
    "            down.append(delta[_i])\n",
    "        elif delta[_i] > 0:\n",
    "            up.append(delta[_i])\n",
    "            down.append(0)\n",
    "        else:\n",
    "            up.append(0)\n",
    "            down.append(0)\n",
    "    down = pd.Series(down)\n",
    "\n",
    "    chunks = dataframe.map_partitions(lambda x: len(x)).compute().to_numpy()\n",
    "\n",
    "    up = da.from_array(up, chunks=tuple(chunks))\n",
    "    down = da.from_array(down, chunks=tuple(chunks))\n",
    "\n",
    "    dataframe['<UP>'] = up\n",
    "    dataframe['<DOWN>'] = down\n",
    "\n",
    "    avg_gain = dataframe['<UP>'].rolling(window=period).mean()\n",
    "    avg_loss = abs(dataframe['<DOWN>'].rolling(window=period).mean())\n",
    "\n",
    "    RS = avg_gain/avg_loss\n",
    "\n",
    "    RSI = 100.0 - (100.0/(1.0 + RS))\n",
    "\n",
    "    dataframe['<INDICATOR>'] = RSI\n",
    "\n",
    "    return dataframe"
   ]
  },
  {
   "cell_type": "code",
   "execution_count": 2,
   "metadata": {},
   "outputs": [
    {
     "data": {
      "text/html": [
       "<div><strong>Dask DataFrame Structure:</strong></div>\n",
       "<div>\n",
       "<style scoped>\n",
       "    .dataframe tbody tr th:only-of-type {\n",
       "        vertical-align: middle;\n",
       "    }\n",
       "\n",
       "    .dataframe tbody tr th {\n",
       "        vertical-align: top;\n",
       "    }\n",
       "\n",
       "    .dataframe thead th {\n",
       "        text-align: right;\n",
       "    }\n",
       "</style>\n",
       "<table border=\"1\" class=\"dataframe\">\n",
       "  <thead>\n",
       "    <tr style=\"text-align: right;\">\n",
       "      <th></th>\n",
       "      <th>&lt;LAST&gt;</th>\n",
       "      <th>&lt;VOLUME&gt;</th>\n",
       "      <th>&lt;DELTA&gt;</th>\n",
       "      <th>&lt;UP&gt;</th>\n",
       "      <th>&lt;DOWN&gt;</th>\n",
       "      <th>&lt;INDICATOR&gt;</th>\n",
       "    </tr>\n",
       "    <tr>\n",
       "      <th>npartitions=2</th>\n",
       "      <th></th>\n",
       "      <th></th>\n",
       "      <th></th>\n",
       "      <th></th>\n",
       "      <th></th>\n",
       "      <th></th>\n",
       "    </tr>\n",
       "  </thead>\n",
       "  <tbody>\n",
       "    <tr>\n",
       "      <th></th>\n",
       "      <td>float64</td>\n",
       "      <td>float64</td>\n",
       "      <td>float64</td>\n",
       "      <td>float64</td>\n",
       "      <td>float64</td>\n",
       "      <td>float64</td>\n",
       "    </tr>\n",
       "    <tr>\n",
       "      <th></th>\n",
       "      <td>...</td>\n",
       "      <td>...</td>\n",
       "      <td>...</td>\n",
       "      <td>...</td>\n",
       "      <td>...</td>\n",
       "      <td>...</td>\n",
       "    </tr>\n",
       "    <tr>\n",
       "      <th></th>\n",
       "      <td>...</td>\n",
       "      <td>...</td>\n",
       "      <td>...</td>\n",
       "      <td>...</td>\n",
       "      <td>...</td>\n",
       "      <td>...</td>\n",
       "    </tr>\n",
       "  </tbody>\n",
       "</table>\n",
       "</div>\n",
       "<div>Dask Name: fillna, 106 tasks</div>"
      ],
      "text/plain": [
       "Dask DataFrame Structure:\n",
       "                <LAST> <VOLUME>  <DELTA>     <UP>   <DOWN> <INDICATOR>\n",
       "npartitions=2                                                         \n",
       "               float64  float64  float64  float64  float64     float64\n",
       "                   ...      ...      ...      ...      ...         ...\n",
       "                   ...      ...      ...      ...      ...         ...\n",
       "Dask Name: fillna, 106 tasks"
      ]
     },
     "execution_count": 2,
     "metadata": {},
     "output_type": "execute_result"
    }
   ],
   "source": [
    "df = RSI(df, 7, '<LAST>').fillna(0)\n",
    "df"
   ]
  },
  {
   "cell_type": "code",
   "execution_count": 3,
   "metadata": {},
   "outputs": [],
   "source": [
    "model = RandomForestRegressor(n_estimators=100, max_depth=10, random_state=42, criterion=\"mae\")"
   ]
  },
  {
   "cell_type": "code",
   "execution_count": 4,
   "metadata": {},
   "outputs": [],
   "source": [
    "df_model = df.copy().compute()\n",
    "\n",
    "y = pd.DataFrame()\n",
    "\n",
    "y['<INDICATOR>'] = df_model['<INDICATOR>']\n",
    "\n",
    "df_model = df_model.drop(['<DELTA>', '<UP>', '<DOWN>', '<INDICATOR>'], axis=1)\n",
    "\n",
    "train_size = int(len(df_model) * (1 - 0.2))\n",
    "\n",
    "scaler = MinMaxScaler(feature_range=(0, 1))\n",
    "scaler.fit(df_model)\n",
    "df_scaled = pd.DataFrame(scaler.transform(df_model)).rename(columns={0: '<LAST>', 1: '<VOLUME>'})\n",
    "\n",
    "scaler_y = MinMaxScaler(feature_range=(0, 1))\n",
    "scaler_y.fit(y)\n",
    "y_scaled = pd.DataFrame(scaler_y.transform(y)).rename(columns={0: '<LAST>', 1: '<VOLUME>'})\n",
    "\n",
    "X_train, X_test = df_scaled[['<LAST>', '<VOLUME>']][:train_size], df_scaled[['<LAST>', '<VOLUME>']][train_size:len(df_scaled)]\n",
    "y_train, y_test = y_scaled[['<INDICATOR>']][:train_size], y_scaled[['<INDICATOR>']][train_size:len(y_scaled)]"
   ]
  },
  {
   "cell_type": "code",
   "execution_count": 5,
   "metadata": {},
   "outputs": [
    {
     "name": "stderr",
     "output_type": "stream",
     "text": [
      "C:\\Users\\BTK\\AppData\\Local\\Temp/ipykernel_20384/3879623256.py:1: DataConversionWarning: A column-vector y was passed when a 1d array was expected. Please change the shape of y to (n_samples,), for example using ravel().\n",
      "  model.fit(X_train, y_train)\n"
     ]
    }
   ],
   "source": [
    "model.fit(X_train, y_train)\n",
    "y_pred = model.predict(X_test)\n",
    "\n",
    "from sklearn.metrics import mean_squared_error\n",
    "\n",
    "print(f'Model score: {mean_squared_error(y_test, y_pred)} RMSE')"
   ]
  }
 ],
 "metadata": {
  "interpreter": {
   "hash": "e5752ecff69a9202d550b914c9ad4e8fc93a5814f1e813458bd9560625d0de9b"
  },
  "kernelspec": {
   "display_name": "Python 3.8.11 64-bit ('ml_env': conda)",
   "name": "python3"
  },
  "language_info": {
   "codemirror_mode": {
    "name": "ipython",
    "version": 3
   },
   "file_extension": ".py",
   "mimetype": "text/x-python",
   "name": "python",
   "nbconvert_exporter": "python",
   "pygments_lexer": "ipython3",
   "version": "3.8.11"
  }
 },
 "nbformat": 4,
 "nbformat_minor": 5
}
