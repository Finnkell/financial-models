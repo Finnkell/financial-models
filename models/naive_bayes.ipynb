{
 "cells": [
  {
   "cell_type": "code",
   "execution_count": 4,
   "source": [
    "from __future__ import absolute_import\r\n",
    "\r\n",
    "import pandas as pd\r\n",
    "import numpy as np\r\n",
    "import dask.dataframe as dd\r\n",
    "\r\n",
    "from sklearn.preprocessing import MinMaxScaler\r\n",
    "from sklearn.linear_model import BayesianRidge\r\n",
    "from sklearn.metrics import mean_squared_error, r2_score\r\n",
    "\r\n",
    "\r\n",
    "df = dd.read_csv('D:/Dados historicos-NOVO/WINFUT_01042019_31122019/WIN$N_BMF_T_bid_ask.csv', sep='\\t', usecols=[0, 1, 4, 5])\r\n",
    "# df = dd.read_csv('D:/Dados historicos-NOVO/Bovespa_02012017_30062021/SEQL3_BOV_T_bid_ask.csv', sep='\\t', usecols=[4, 5])\r\n",
    "\r\n",
    "df = df.dropna().reset_index(drop=True)"
   ],
   "outputs": [],
   "metadata": {}
  },
  {
   "cell_type": "code",
   "execution_count": 5,
   "source": [
    "def RSI(data, period, applied_price):\r\n",
    "    dataframe = data\r\n",
    "\r\n",
    "    delta = dataframe[applied_price].diff(1)\r\n",
    "    delta = delta.fillna(0)\r\n",
    "\r\n",
    "    dataframe['<DELTA>'] = delta\r\n",
    "\r\n",
    "    dataframe['<UP>'] = delta.copy()\r\n",
    "    dataframe['<DOWN>'] = delta.copy()\r\n",
    "\r\n",
    "    \r\n",
    "#     dataframe['<UP>'] = dataframe['<UP>'].apply(lambda x: x if x < 0 else 0)\r\n",
    "    for _i in range(len(dataframe)):\r\n",
    "        if dataframe['<DELTA>'].iloc[_i] < 0:\r\n",
    "            dataframe['<UP>'].iloc[_i] = 0\r\n",
    "            dataframe['<DOWN>'].iloc[_i] = dataframe['<DELTA>'].iloc[_i]\r\n",
    "        elif dataframe['<DELTA>'].iloc[_i] > 0:\r\n",
    "            dataframe['<UP>'].iloc[_i] = dataframe['<DELTA>'].iloc[_i]\r\n",
    "            dataframe['<DOWN>'].iloc[_i] = 0\r\n",
    "        else:\r\n",
    "            dataframe['<UP>'].iloc[_i] = 0\r\n",
    "            dataframe['<DOWN>'].iloc[_i] = 0\r\n",
    "    \r\n",
    "#     dataframe['<DOWN>'] = dataframe['<DOWN>'].apply(lambda x: x if x > 0 else 0)\r\n",
    "\r\n",
    "    # up = dd.DataFrame(delta.copy())\r\n",
    "    # down = dd.DataFrame(delta.copy())\r\n",
    "\r\n",
    "\r\n",
    "    # up[up < 0] = 0\r\n",
    "    # down[down > 0] = 0\r\n",
    "    \r\n",
    "    # dataframe = dataframe.assign(temp_f=up).fillna(0)\r\n",
    "    # dataframe = dataframe.assign(temp_k=down).fillna(0)\r\n",
    "\r\n",
    "    # dataframe = dataframe.rename(columns={'temp_f':'<UP>', 'temp_k':'<DOWN>'})\r\n",
    "\r\n",
    "    avg_gain = dataframe['<UP>'].rolling(window=period).mean()\r\n",
    "    avg_loss = abs(dataframe['<DOWN>'].rolling(window=period).mean())\r\n",
    "\r\n",
    "    RS = avg_gain/avg_loss\r\n",
    "\r\n",
    "    RSI = 100.0 - (100.0/(1.0 + RS))\r\n",
    "\r\n",
    "    dataframe['<INDICATOR>'] = RSI\r\n",
    "\r\n",
    "    return dataframe"
   ],
   "outputs": [],
   "metadata": {}
  },
  {
   "cell_type": "code",
   "execution_count": 6,
   "source": [
    "df = RSI(df, 7, '<LAST>')"
   ],
   "outputs": [
    {
     "output_type": "error",
     "ename": "AttributeError",
     "evalue": "'Series' object has no attribute 'iloc'",
     "traceback": [
      "\u001b[1;31m---------------------------------------------------------------------------\u001b[0m",
      "\u001b[1;31mAttributeError\u001b[0m                            Traceback (most recent call last)",
      "\u001b[1;32m~\\AppData\\Local\\Temp/ipykernel_14712/2418972842.py\u001b[0m in \u001b[0;36m<module>\u001b[1;34m\u001b[0m\n\u001b[1;32m----> 1\u001b[1;33m \u001b[0mdf\u001b[0m \u001b[1;33m=\u001b[0m \u001b[0mRSI\u001b[0m\u001b[1;33m(\u001b[0m\u001b[0mdf\u001b[0m\u001b[1;33m,\u001b[0m \u001b[1;36m7\u001b[0m\u001b[1;33m,\u001b[0m \u001b[1;34m'<LAST>'\u001b[0m\u001b[1;33m)\u001b[0m\u001b[1;33m\u001b[0m\u001b[1;33m\u001b[0m\u001b[0m\n\u001b[0m",
      "\u001b[1;32m~\\AppData\\Local\\Temp/ipykernel_14712/2386819248.py\u001b[0m in \u001b[0;36mRSI\u001b[1;34m(data, period, applied_price)\u001b[0m\n\u001b[0;32m     13\u001b[0m \u001b[1;31m#     dataframe['<UP>'] = dataframe['<UP>'].apply(lambda x: x if x < 0 else 0)\u001b[0m\u001b[1;33m\u001b[0m\u001b[1;33m\u001b[0m\u001b[1;33m\u001b[0m\u001b[0m\n\u001b[0;32m     14\u001b[0m     \u001b[1;32mfor\u001b[0m \u001b[0m_i\u001b[0m \u001b[1;32min\u001b[0m \u001b[0mrange\u001b[0m\u001b[1;33m(\u001b[0m\u001b[0mlen\u001b[0m\u001b[1;33m(\u001b[0m\u001b[0mdataframe\u001b[0m\u001b[1;33m[\u001b[0m\u001b[1;34m'<DELTA>'\u001b[0m\u001b[1;33m]\u001b[0m\u001b[1;33m)\u001b[0m\u001b[1;33m)\u001b[0m\u001b[1;33m:\u001b[0m\u001b[1;33m\u001b[0m\u001b[1;33m\u001b[0m\u001b[0m\n\u001b[1;32m---> 15\u001b[1;33m         \u001b[1;32mif\u001b[0m \u001b[0mdataframe\u001b[0m\u001b[1;33m[\u001b[0m\u001b[1;34m'<DELTA>'\u001b[0m\u001b[1;33m]\u001b[0m\u001b[1;33m.\u001b[0m\u001b[0miloc\u001b[0m\u001b[1;33m[\u001b[0m\u001b[0m_i\u001b[0m\u001b[1;33m]\u001b[0m \u001b[1;33m<\u001b[0m \u001b[1;36m0\u001b[0m\u001b[1;33m:\u001b[0m\u001b[1;33m\u001b[0m\u001b[1;33m\u001b[0m\u001b[0m\n\u001b[0m\u001b[0;32m     16\u001b[0m             \u001b[0mdataframe\u001b[0m\u001b[1;33m[\u001b[0m\u001b[1;34m'<UP>'\u001b[0m\u001b[1;33m]\u001b[0m\u001b[1;33m.\u001b[0m\u001b[0miloc\u001b[0m\u001b[1;33m[\u001b[0m\u001b[0m_i\u001b[0m\u001b[1;33m]\u001b[0m \u001b[1;33m=\u001b[0m \u001b[1;36m0\u001b[0m\u001b[1;33m\u001b[0m\u001b[1;33m\u001b[0m\u001b[0m\n\u001b[0;32m     17\u001b[0m             \u001b[0mdataframe\u001b[0m\u001b[1;33m[\u001b[0m\u001b[1;34m'<DOWN>'\u001b[0m\u001b[1;33m]\u001b[0m\u001b[1;33m.\u001b[0m\u001b[0miloc\u001b[0m\u001b[1;33m[\u001b[0m\u001b[0m_i\u001b[0m\u001b[1;33m]\u001b[0m \u001b[1;33m=\u001b[0m \u001b[0mdataframe\u001b[0m\u001b[1;33m[\u001b[0m\u001b[1;34m'<DELTA>'\u001b[0m\u001b[1;33m]\u001b[0m\u001b[1;33m.\u001b[0m\u001b[0miloc\u001b[0m\u001b[1;33m[\u001b[0m\u001b[0m_i\u001b[0m\u001b[1;33m]\u001b[0m\u001b[1;33m\u001b[0m\u001b[1;33m\u001b[0m\u001b[0m\n",
      "\u001b[1;31mAttributeError\u001b[0m: 'Series' object has no attribute 'iloc'"
     ]
    }
   ],
   "metadata": {}
  },
  {
   "cell_type": "code",
   "execution_count": null,
   "source": [
    "df['<INDICATOR>'][500:530].compute()"
   ],
   "outputs": [],
   "metadata": {}
  },
  {
   "cell_type": "code",
   "execution_count": null,
   "source": [],
   "outputs": [],
   "metadata": {}
  }
 ],
 "metadata": {
  "interpreter": {
   "hash": "e5752ecff69a9202d550b914c9ad4e8fc93a5814f1e813458bd9560625d0de9b"
  },
  "kernelspec": {
   "name": "python3",
   "display_name": "Python 3.8.11 64-bit ('ml_env': conda)"
  },
  "language_info": {
   "codemirror_mode": {
    "name": "ipython",
    "version": 3
   },
   "file_extension": ".py",
   "mimetype": "text/x-python",
   "name": "python",
   "nbconvert_exporter": "python",
   "pygments_lexer": "ipython3",
   "version": "3.8.11"
  }
 },
 "nbformat": 4,
 "nbformat_minor": 5
}